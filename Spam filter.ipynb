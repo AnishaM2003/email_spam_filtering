{
 "cells": [
  {
   "cell_type": "markdown",
   "id": "1def0473",
   "metadata": {},
   "source": [
    "Import Libraries"
   ]
  },
  {
   "cell_type": "code",
   "execution_count": 1,
   "id": "585c8de6",
   "metadata": {},
   "outputs": [],
   "source": [
    "import pandas as pd\n",
    "import numpy as np\n",
    "\n",
    "import matplotlib.pyplot as plt\n",
    "import seaborn as sns\n",
    "sns.set_style('whitegrid')\n",
    "\n",
    "import nltk\n",
    "from nltk.tokenize import word_tokenize\n",
    "from nltk.tokenize import RegexpTokenizer\n",
    "from sklearn.metrics import accuracy_score, classification_report, confusion_matrix\n",
    "from sklearn.linear_model import LogisticRegression"
   ]
  },
  {
   "cell_type": "code",
   "execution_count": 3,
   "id": "76cb38e3",
   "metadata": {},
   "outputs": [
    {
     "data": {
      "text/html": [
       "<div>\n",
       "<style scoped>\n",
       "    .dataframe tbody tr th:only-of-type {\n",
       "        vertical-align: middle;\n",
       "    }\n",
       "\n",
       "    .dataframe tbody tr th {\n",
       "        vertical-align: top;\n",
       "    }\n",
       "\n",
       "    .dataframe thead th {\n",
       "        text-align: right;\n",
       "    }\n",
       "</style>\n",
       "<table border=\"1\" class=\"dataframe\">\n",
       "  <thead>\n",
       "    <tr style=\"text-align: right;\">\n",
       "      <th></th>\n",
       "      <th>Label</th>\n",
       "      <th>Text</th>\n",
       "      <th>Label_Number</th>\n",
       "    </tr>\n",
       "  </thead>\n",
       "  <tbody>\n",
       "    <tr>\n",
       "      <th>0</th>\n",
       "      <td>spam</td>\n",
       "      <td>Why United Kingdom is best study destination_x...</td>\n",
       "      <td>1</td>\n",
       "    </tr>\n",
       "    <tr>\n",
       "      <th>1</th>\n",
       "      <td>non_spam</td>\n",
       "      <td>Homeowners are looking for a tenant like you z...</td>\n",
       "      <td>0</td>\n",
       "    </tr>\n",
       "    <tr>\n",
       "      <th>2</th>\n",
       "      <td>non_spam</td>\n",
       "      <td>Shop Assigned  Mi Home VM JanakpuriHigh Street...</td>\n",
       "      <td>0</td>\n",
       "    </tr>\n",
       "    <tr>\n",
       "      <th>3</th>\n",
       "      <td>non_spam</td>\n",
       "      <td>Profile picture pending approval_x000D_\\nHi Ru...</td>\n",
       "      <td>0</td>\n",
       "    </tr>\n",
       "    <tr>\n",
       "      <th>4</th>\n",
       "      <td>non_spam</td>\n",
       "      <td>Mahimagoyal JEE Main New Exam Dates Out_x000D_\\n</td>\n",
       "      <td>0</td>\n",
       "    </tr>\n",
       "  </tbody>\n",
       "</table>\n",
       "</div>"
      ],
      "text/plain": [
       "      Label                                               Text  Label_Number\n",
       "0      spam  Why United Kingdom is best study destination_x...             1\n",
       "1  non_spam  Homeowners are looking for a tenant like you z...             0\n",
       "2  non_spam  Shop Assigned  Mi Home VM JanakpuriHigh Street...             0\n",
       "3  non_spam  Profile picture pending approval_x000D_\\nHi Ru...             0\n",
       "4  non_spam   Mahimagoyal JEE Main New Exam Dates Out_x000D_\\n             0"
      ]
     },
     "execution_count": 3,
     "metadata": {},
     "output_type": "execute_result"
    }
   ],
   "source": [
    "df = pd.read_excel('All_Emails.xlsx')\n",
    "\n",
    "df.drop('Unnamed: 0', axis=1, inplace = True)\n",
    "df.columns = ['Label', 'Text', 'Label_Number']\n",
    "df.head()"
   ]
  },
  {
   "cell_type": "code",
   "execution_count": 4,
   "id": "9de392bd",
   "metadata": {},
   "outputs": [
    {
     "data": {
      "text/plain": [
       "(980, 3)"
      ]
     },
     "execution_count": 4,
     "metadata": {},
     "output_type": "execute_result"
    }
   ],
   "source": [
    "df.shape"
   ]
  },
  {
   "cell_type": "code",
   "execution_count": 5,
   "id": "46beaa85",
   "metadata": {},
   "outputs": [
    {
     "name": "stdout",
     "output_type": "stream",
     "text": [
      "<class 'pandas.core.frame.DataFrame'>\n",
      "RangeIndex: 980 entries, 0 to 979\n",
      "Data columns (total 3 columns):\n",
      " #   Column        Non-Null Count  Dtype \n",
      "---  ------        --------------  ----- \n",
      " 0   Label         980 non-null    object\n",
      " 1   Text          980 non-null    object\n",
      " 2   Label_Number  980 non-null    int64 \n",
      "dtypes: int64(1), object(2)\n",
      "memory usage: 23.1+ KB\n"
     ]
    }
   ],
   "source": [
    "df.info()"
   ]
  },
  {
   "cell_type": "code",
   "execution_count": 6,
   "id": "73c731bf",
   "metadata": {},
   "outputs": [
    {
     "data": {
      "text/plain": [
       "Label           0\n",
       "Text            0\n",
       "Label_Number    0\n",
       "dtype: int64"
      ]
     },
     "execution_count": 6,
     "metadata": {},
     "output_type": "execute_result"
    }
   ],
   "source": [
    "df.isna().sum()"
   ]
  },
  {
   "cell_type": "code",
   "execution_count": 7,
   "id": "83e52c1f",
   "metadata": {},
   "outputs": [
    {
     "data": {
      "text/plain": [
       "0    938\n",
       "1     42\n",
       "Name: Label_Number, dtype: int64"
      ]
     },
     "execution_count": 7,
     "metadata": {},
     "output_type": "execute_result"
    }
   ],
   "source": [
    "df['Label_Number'].value_counts()"
   ]
  },
  {
   "cell_type": "code",
   "execution_count": 8,
   "id": "bf62dc6f",
   "metadata": {},
   "outputs": [
    {
     "data": {
      "image/png": "[encoded data removed]",
      "text/plain": [
       "<Figure size 800x600 with 1 Axes>"
      ]
     },
     "metadata": {},
     "output_type": "display_data"
    }
   ],
   "source": [
    "plt.figure(figsize = (8, 6))\n",
    "sns.countplot(data = df, x = 'Label');"
   ]
  },
  {
   "cell_type": "markdown",
   "id": "07af90b1",
   "metadata": {},
   "source": [
    "Count no. of each word"
   ]
  },
  {
   "cell_type": "code",
   "execution_count": 9,
   "id": "fea936cd",
   "metadata": {},
   "outputs": [
    {
     "data": {
      "text/plain": [
       "0      713\n",
       "1      114\n",
       "2      687\n",
       "3      107\n",
       "4        7\n",
       "      ... \n",
       "975     27\n",
       "976     28\n",
       "977    277\n",
       "978     15\n",
       "979      3\n",
       "Name: count, Length: 980, dtype: int64"
      ]
     },
     "execution_count": 9,
     "metadata": {},
     "output_type": "execute_result"
    }
   ],
   "source": [
    "def count_words(text):\n",
    "    words = word_tokenize(text)\n",
    "    return len(words)\n",
    "df['count']=df['Text'].apply(count_words)\n",
    "df['count']"
   ]
  },
  {
   "cell_type": "code",
   "execution_count": 10,
   "id": "9f14d19d",
   "metadata": {},
   "outputs": [
    {
     "data": {
      "text/plain": [
       "Label_Number\n",
       "0    199.382729\n",
       "1    423.642857\n",
       "Name: count, dtype: float64"
      ]
     },
     "execution_count": 10,
     "metadata": {},
     "output_type": "execute_result"
    }
   ],
   "source": [
    "df.groupby('Label_Number')['count'].mean()"
   ]
  },
  {
   "cell_type": "markdown",
   "id": "d6a03172",
   "metadata": {},
   "source": [
    "Tokenization"
   ]
  },
  {
   "cell_type": "code",
   "execution_count": 11,
   "id": "06a74583",
   "metadata": {},
   "outputs": [
    {
     "name": "stdout",
     "output_type": "stream",
     "text": [
      "Before cleaning:\n",
      "CPU times: total: 0 ns\n",
      "Wall time: 999 µs\n"
     ]
    },
    {
     "data": {
      "text/html": [
       "<div>\n",
       "<style scoped>\n",
       "    .dataframe tbody tr th:only-of-type {\n",
       "        vertical-align: middle;\n",
       "    }\n",
       "\n",
       "    .dataframe tbody tr th {\n",
       "        vertical-align: top;\n",
       "    }\n",
       "\n",
       "    .dataframe thead th {\n",
       "        text-align: right;\n",
       "    }\n",
       "</style>\n",
       "<table border=\"1\" class=\"dataframe\">\n",
       "  <thead>\n",
       "    <tr style=\"text-align: right;\">\n",
       "      <th></th>\n",
       "      <th>Label</th>\n",
       "      <th>Text</th>\n",
       "      <th>Label_Number</th>\n",
       "      <th>count</th>\n",
       "    </tr>\n",
       "  </thead>\n",
       "  <tbody>\n",
       "    <tr>\n",
       "      <th>0</th>\n",
       "      <td>spam</td>\n",
       "      <td>Why United Kingdom is best study destination_x...</td>\n",
       "      <td>1</td>\n",
       "      <td>713</td>\n",
       "    </tr>\n",
       "    <tr>\n",
       "      <th>1</th>\n",
       "      <td>non_spam</td>\n",
       "      <td>Homeowners are looking for a tenant like you z...</td>\n",
       "      <td>0</td>\n",
       "      <td>114</td>\n",
       "    </tr>\n",
       "    <tr>\n",
       "      <th>2</th>\n",
       "      <td>non_spam</td>\n",
       "      <td>Shop Assigned  Mi Home VM JanakpuriHigh Street...</td>\n",
       "      <td>0</td>\n",
       "      <td>687</td>\n",
       "    </tr>\n",
       "    <tr>\n",
       "      <th>3</th>\n",
       "      <td>non_spam</td>\n",
       "      <td>Profile picture pending approval_x000D_\\nHi Ru...</td>\n",
       "      <td>0</td>\n",
       "      <td>107</td>\n",
       "    </tr>\n",
       "    <tr>\n",
       "      <th>4</th>\n",
       "      <td>non_spam</td>\n",
       "      <td>Mahimagoyal JEE Main New Exam Dates Out_x000D_\\n</td>\n",
       "      <td>0</td>\n",
       "      <td>7</td>\n",
       "    </tr>\n",
       "  </tbody>\n",
       "</table>\n",
       "</div>"
      ],
      "text/plain": [
       "      Label                                               Text  Label_Number  \\\n",
       "0      spam  Why United Kingdom is best study destination_x...             1   \n",
       "1  non_spam  Homeowners are looking for a tenant like you z...             0   \n",
       "2  non_spam  Shop Assigned  Mi Home VM JanakpuriHigh Street...             0   \n",
       "3  non_spam  Profile picture pending approval_x000D_\\nHi Ru...             0   \n",
       "4  non_spam   Mahimagoyal JEE Main New Exam Dates Out_x000D_\\n             0   \n",
       "\n",
       "   count  \n",
       "0    713  \n",
       "1    114  \n",
       "2    687  \n",
       "3    107  \n",
       "4      7  "
      ]
     },
     "execution_count": 11,
     "metadata": {},
     "output_type": "execute_result"
    }
   ],
   "source": [
    "%%time\n",
    "def clean_str(string, reg = RegexpTokenizer(r'[a-z]+')):\n",
    "    # Clean a string with RegexpTokenizer\n",
    "    string = string.lower()\n",
    "    tokens = reg.tokenize(string)\n",
    "    return \" \".join(tokens)\n",
    "\n",
    "print('Before cleaning:')\n",
    "df.head()"
   ]
  },
  {
   "cell_type": "code",
   "execution_count": 12,
   "id": "251e0fd5",
   "metadata": {},
   "outputs": [
    {
     "name": "stdout",
     "output_type": "stream",
     "text": [
      "After cleaning:\n"
     ]
    },
    {
     "data": {
      "text/html": [
       "<div>\n",
       "<style scoped>\n",
       "    .dataframe tbody tr th:only-of-type {\n",
       "        vertical-align: middle;\n",
       "    }\n",
       "\n",
       "    .dataframe tbody tr th {\n",
       "        vertical-align: top;\n",
       "    }\n",
       "\n",
       "    .dataframe thead th {\n",
       "        text-align: right;\n",
       "    }\n",
       "</style>\n",
       "<table border=\"1\" class=\"dataframe\">\n",
       "  <thead>\n",
       "    <tr style=\"text-align: right;\">\n",
       "      <th></th>\n",
       "      <th>Label</th>\n",
       "      <th>Text</th>\n",
       "      <th>Label_Number</th>\n",
       "      <th>count</th>\n",
       "    </tr>\n",
       "  </thead>\n",
       "  <tbody>\n",
       "    <tr>\n",
       "      <th>0</th>\n",
       "      <td>spam</td>\n",
       "      <td>why united kingdom is best study destination x...</td>\n",
       "      <td>1</td>\n",
       "      <td>713</td>\n",
       "    </tr>\n",
       "    <tr>\n",
       "      <th>1</th>\n",
       "      <td>non_spam</td>\n",
       "      <td>homeowners are looking for a tenant like you z...</td>\n",
       "      <td>0</td>\n",
       "      <td>114</td>\n",
       "    </tr>\n",
       "    <tr>\n",
       "      <th>2</th>\n",
       "      <td>non_spam</td>\n",
       "      <td>shop assigned mi home vm janakpurihigh street ...</td>\n",
       "      <td>0</td>\n",
       "      <td>687</td>\n",
       "    </tr>\n",
       "    <tr>\n",
       "      <th>3</th>\n",
       "      <td>non_spam</td>\n",
       "      <td>profile picture pending approval x d hi rupal ...</td>\n",
       "      <td>0</td>\n",
       "      <td>107</td>\n",
       "    </tr>\n",
       "    <tr>\n",
       "      <th>4</th>\n",
       "      <td>non_spam</td>\n",
       "      <td>mahimagoyal jee main new exam dates out x d</td>\n",
       "      <td>0</td>\n",
       "      <td>7</td>\n",
       "    </tr>\n",
       "  </tbody>\n",
       "</table>\n",
       "</div>"
      ],
      "text/plain": [
       "      Label                                               Text  Label_Number  \\\n",
       "0      spam  why united kingdom is best study destination x...             1   \n",
       "1  non_spam  homeowners are looking for a tenant like you z...             0   \n",
       "2  non_spam  shop assigned mi home vm janakpurihigh street ...             0   \n",
       "3  non_spam  profile picture pending approval x d hi rupal ...             0   \n",
       "4  non_spam        mahimagoyal jee main new exam dates out x d             0   \n",
       "\n",
       "   count  \n",
       "0    713  \n",
       "1    114  \n",
       "2    687  \n",
       "3    107  \n",
       "4      7  "
      ]
     },
     "execution_count": 12,
     "metadata": {},
     "output_type": "execute_result"
    }
   ],
   "source": [
    "print('After cleaning:')\n",
    "df['Text'] = df['Text'].apply(lambda string: clean_str(string))\n",
    "df.head()"
   ]
  },
  {
   "cell_type": "markdown",
   "id": "30bf8e62",
   "metadata": {},
   "source": [
    "Stemming words"
   ]
  },
  {
   "cell_type": "code",
   "execution_count": 13,
   "id": "5ab69447",
   "metadata": {},
   "outputs": [
    {
     "data": {
      "text/html": [
       "<div>\n",
       "<style scoped>\n",
       "    .dataframe tbody tr th:only-of-type {\n",
       "        vertical-align: middle;\n",
       "    }\n",
       "\n",
       "    .dataframe tbody tr th {\n",
       "        vertical-align: top;\n",
       "    }\n",
       "\n",
       "    .dataframe thead th {\n",
       "        text-align: right;\n",
       "    }\n",
       "</style>\n",
       "<table border=\"1\" class=\"dataframe\">\n",
       "  <thead>\n",
       "    <tr style=\"text-align: right;\">\n",
       "      <th></th>\n",
       "      <th>Label</th>\n",
       "      <th>Text</th>\n",
       "      <th>Label_Number</th>\n",
       "      <th>count</th>\n",
       "    </tr>\n",
       "  </thead>\n",
       "  <tbody>\n",
       "    <tr>\n",
       "      <th>0</th>\n",
       "      <td>spam</td>\n",
       "      <td>why united kingdom is best study destination x...</td>\n",
       "      <td>1</td>\n",
       "      <td>713</td>\n",
       "    </tr>\n",
       "    <tr>\n",
       "      <th>1</th>\n",
       "      <td>non_spam</td>\n",
       "      <td>homeowners are looking for a tenant like you z...</td>\n",
       "      <td>0</td>\n",
       "      <td>114</td>\n",
       "    </tr>\n",
       "    <tr>\n",
       "      <th>2</th>\n",
       "      <td>non_spam</td>\n",
       "      <td>shop assigned mi home vm janakpurihigh street ...</td>\n",
       "      <td>0</td>\n",
       "      <td>687</td>\n",
       "    </tr>\n",
       "    <tr>\n",
       "      <th>3</th>\n",
       "      <td>non_spam</td>\n",
       "      <td>profile picture pending approval x d hi rupal ...</td>\n",
       "      <td>0</td>\n",
       "      <td>107</td>\n",
       "    </tr>\n",
       "    <tr>\n",
       "      <th>4</th>\n",
       "      <td>non_spam</td>\n",
       "      <td>mahimagoyal jee main new exam dates out x d</td>\n",
       "      <td>0</td>\n",
       "      <td>7</td>\n",
       "    </tr>\n",
       "  </tbody>\n",
       "</table>\n",
       "</div>"
      ],
      "text/plain": [
       "      Label                                               Text  Label_Number  \\\n",
       "0      spam  why united kingdom is best study destination x...             1   \n",
       "1  non_spam  homeowners are looking for a tenant like you z...             0   \n",
       "2  non_spam  shop assigned mi home vm janakpurihigh street ...             0   \n",
       "3  non_spam  profile picture pending approval x d hi rupal ...             0   \n",
       "4  non_spam        mahimagoyal jee main new exam dates out x d             0   \n",
       "\n",
       "   count  \n",
       "0    713  \n",
       "1    114  \n",
       "2    687  \n",
       "3    107  \n",
       "4      7  "
      ]
     },
     "execution_count": 13,
     "metadata": {},
     "output_type": "execute_result"
    }
   ],
   "source": [
    "from nltk.stem import PorterStemmer\n",
    "stemmer = PorterStemmer()\n",
    "def stemming (text):\n",
    "    return ''.join([stemmer.stem(word) for word in text])\n",
    "df['Text']=df['Text'].apply(stemming)\n",
    "df.head()"
   ]
  },
  {
   "cell_type": "code",
   "execution_count": 14,
   "id": "4ab6260d",
   "metadata": {},
   "outputs": [
    {
     "name": "stdout",
     "output_type": "stream",
     "text": [
      "Shape of X: (980,)\n",
      "shape of y: (980,)\n"
     ]
    }
   ],
   "source": [
    "X = df.loc[:, 'Text']\n",
    "y = df.loc[:, 'Label_Number']\n",
    "\n",
    "print(f\"Shape of X: {X.shape}\\nshape of y: {y.shape}\")"
   ]
  },
  {
   "cell_type": "markdown",
   "id": "0d1884c6",
   "metadata": {},
   "source": [
    "Split into Training data and Test data"
   ]
  },
  {
   "cell_type": "code",
   "execution_count": 15,
   "id": "6f409a74",
   "metadata": {},
   "outputs": [],
   "source": [
    "from sklearn.model_selection import train_test_split\n",
    "X_train, X_test, y_train, y_test = train_test_split(X, y, test_size=0.20, random_state=11)"
   ]
  },
  {
   "cell_type": "code",
   "execution_count": 16,
   "id": "d2b0c4a4",
   "metadata": {},
   "outputs": [
    {
     "name": "stdout",
     "output_type": "stream",
     "text": [
      "Training Data Shape: (784,)\n",
      "Test Data Shape: (196,)\n"
     ]
    }
   ],
   "source": [
    "print(f\"Training Data Shape: {X_train.shape}\\nTest Data Shape: {X_test.shape}\")\n"
   ]
  },
  {
   "cell_type": "markdown",
   "id": "02c3c6ae",
   "metadata": {},
   "source": [
    "Count Vectorization to Extract Features from Text"
   ]
  },
  {
   "cell_type": "code",
   "execution_count": 17,
   "id": "db6832fd",
   "metadata": {},
   "outputs": [
    {
     "data": {
      "text/html": [
       "<style>#sk-container-id-1 {color: black;background-color: white;}#sk-container-id-1 pre{padding: 0;}#sk-container-id-1 div.sk-toggleable {background-color: white;}#sk-container-id-1 label.sk-toggleable__label {cursor: pointer;display: block;width: 100%;margin-bottom: 0;padding: 0.3em;box-sizing: border-box;text-align: center;}#sk-container-id-1 label.sk-toggleable__label-arrow:before {content: \"▸\";float: left;margin-right: 0.25em;color: #696969;}#sk-container-id-1 label.sk-toggleable__label-arrow:hover:before {color: black;}#sk-container-id-1 div.sk-estimator:hover label.sk-toggleable__label-arrow:before {color: black;}#sk-container-id-1 div.sk-toggleable__content {max-height: 0;max-width: 0;overflow: hidden;text-align: left;background-color: #f0f8ff;}#sk-container-id-1 div.sk-toggleable__content pre {margin: 0.2em;color: black;border-radius: 0.25em;background-color: #f0f8ff;}#sk-container-id-1 input.sk-toggleable__control:checked~div.sk-toggleable__content {max-height: 200px;max-width: 100%;overflow: auto;}#sk-container-id-1 input.sk-toggleable__control:checked~label.sk-toggleable__label-arrow:before {content: \"▾\";}#sk-container-id-1 div.sk-estimator input.sk-toggleable__control:checked~label.sk-toggleable__label {background-color: #d4ebff;}#sk-container-id-1 div.sk-label input.sk-toggleable__control:checked~label.sk-toggleable__label {background-color: #d4ebff;}#sk-container-id-1 input.sk-hidden--visually {border: 0;clip: rect(1px 1px 1px 1px);clip: rect(1px, 1px, 1px, 1px);height: 1px;margin: -1px;overflow: hidden;padding: 0;position: absolute;width: 1px;}#sk-container-id-1 div.sk-estimator {font-family: monospace;background-color: #f0f8ff;border: 1px dotted black;border-radius: 0.25em;box-sizing: border-box;margin-bottom: 0.5em;}#sk-container-id-1 div.sk-estimator:hover {background-color: #d4ebff;}#sk-container-id-1 div.sk-parallel-item::after {content: \"\";width: 100%;border-bottom: 1px solid gray;flex-grow: 1;}#sk-container-id-1 div.sk-label:hover label.sk-toggleable__label {background-color: #d4ebff;}#sk-container-id-1 div.sk-serial::before {content: \"\";position: absolute;border-left: 1px solid gray;box-sizing: border-box;top: 0;bottom: 0;left: 50%;z-index: 0;}#sk-container-id-1 div.sk-serial {display: flex;flex-direction: column;align-items: center;background-color: white;padding-right: 0.2em;padding-left: 0.2em;position: relative;}#sk-container-id-1 div.sk-item {position: relative;z-index: 1;}#sk-container-id-1 div.sk-parallel {display: flex;align-items: stretch;justify-content: center;background-color: white;position: relative;}#sk-container-id-1 div.sk-item::before, #sk-container-id-1 div.sk-parallel-item::before {content: \"\";position: absolute;border-left: 1px solid gray;box-sizing: border-box;top: 0;bottom: 0;left: 50%;z-index: -1;}#sk-container-id-1 div.sk-parallel-item {display: flex;flex-direction: column;z-index: 1;position: relative;background-color: white;}#sk-container-id-1 div.sk-parallel-item:first-child::after {align-self: flex-end;width: 50%;}#sk-container-id-1 div.sk-parallel-item:last-child::after {align-self: flex-start;width: 50%;}#sk-container-id-1 div.sk-parallel-item:only-child::after {width: 0;}#sk-container-id-1 div.sk-dashed-wrapped {border: 1px dashed gray;margin: 0 0.4em 0.5em 0.4em;box-sizing: border-box;padding-bottom: 0.4em;background-color: white;}#sk-container-id-1 div.sk-label label {font-family: monospace;font-weight: bold;display: inline-block;line-height: 1.2em;}#sk-container-id-1 div.sk-label-container {text-align: center;}#sk-container-id-1 div.sk-container {/* jupyter's `normalize.less` sets `[hidden] { display: none; }` but bootstrap.min.css set `[hidden] { display: none !important; }` so we also need the `!important` here to be able to override the default hidden behavior on the sphinx rendered scikit-learn.org. See: https://github.com/scikit-learn/scikit-learn/issues/21755 */display: inline-block !important;position: relative;}#sk-container-id-1 div.sk-text-repr-fallback {display: none;}</style><div id=\"sk-container-id-1\" class=\"sk-top-container\"><div class=\"sk-text-repr-fallback\"><pre>CountVectorizer()</pre><b>In a Jupyter environment, please rerun this cell to show the HTML representation or trust the notebook. <br />On GitHub, the HTML representation is unable to render, please try loading this page with nbviewer.org.</b></div><div class=\"sk-container\" hidden><div class=\"sk-item\"><div class=\"sk-estimator sk-toggleable\"><input class=\"sk-toggleable__control sk-hidden--visually\" id=\"sk-estimator-id-1\" type=\"checkbox\" checked><label for=\"sk-estimator-id-1\" class=\"sk-toggleable__label sk-toggleable__label-arrow\">CountVectorizer</label><div class=\"sk-toggleable__content\"><pre>CountVectorizer()</pre></div></div></div></div></div>"
      ],
      "text/plain": [
       "CountVectorizer()"
      ]
     },
     "execution_count": 17,
     "metadata": {},
     "output_type": "execute_result"
    }
   ],
   "source": [
    "from sklearn.feature_extraction.text import CountVectorizer\n",
    "cv=CountVectorizer()\n",
    "cv.fit(X_train)"
   ]
  },
  {
   "cell_type": "code",
   "execution_count": 18,
   "id": "f8e8bdde",
   "metadata": {},
   "outputs": [
    {
     "name": "stdout",
     "output_type": "stream",
     "text": [
      "No.of Tokens:  9246\n"
     ]
    }
   ],
   "source": [
    "print('No.of Tokens: ',len(cv.vocabulary_.keys()))"
   ]
  },
  {
   "cell_type": "code",
   "execution_count": 19,
   "id": "bb2904c1",
   "metadata": {},
   "outputs": [
    {
     "data": {
      "text/plain": [
       "scipy.sparse._csr.csr_matrix"
      ]
     },
     "execution_count": 19,
     "metadata": {},
     "output_type": "execute_result"
    }
   ],
   "source": [
    "dtv = cv.transform(X_train)\n",
    "type(dtv)"
   ]
  },
  {
   "cell_type": "code",
   "execution_count": 20,
   "id": "6378b758",
   "metadata": {},
   "outputs": [],
   "source": [
    "dtv = dtv.toarray()"
   ]
  },
  {
   "cell_type": "code",
   "execution_count": 21,
   "id": "9790e52d",
   "metadata": {},
   "outputs": [
    {
     "name": "stdout",
     "output_type": "stream",
     "text": [
      "Number of Observations: 784\n",
      "Tokens/Features: 9246\n"
     ]
    }
   ],
   "source": [
    "print(f\"Number of Observations: {dtv.shape[0]}\\nTokens/Features: {dtv.shape[1]}\")"
   ]
  },
  {
   "cell_type": "code",
   "execution_count": 22,
   "id": "f935e274",
   "metadata": {},
   "outputs": [
    {
     "data": {
      "text/plain": [
       "array([0, 0, 0, ..., 0, 0, 0], dtype=int64)"
      ]
     },
     "execution_count": 22,
     "metadata": {},
     "output_type": "execute_result"
    }
   ],
   "source": [
    "dtv[1]"
   ]
  },
  {
   "cell_type": "markdown",
   "id": "a1bb6b6a",
   "metadata": {},
   "source": [
    "Apply different models"
   ]
  },
  {
   "cell_type": "code",
   "execution_count": 23,
   "id": "8c04a83b",
   "metadata": {},
   "outputs": [
    {
     "name": "stdout",
     "output_type": "stream",
     "text": [
      "Random Forest        trained in 0.87 sec\n",
      "MultinomialNB        trained in 0.07 sec\n",
      "Logistic Regr.       trained in 0.11 sec\n",
      "KNN                  trained in 0.0 sec\n",
      "Decision Tree        trained in 0.83 sec\n",
      "SVM (Linear)         trained in 0.09 sec\n",
      "SVM (RBF)            trained in 0.9 sec\n",
      "CPU times: total: 2.19 s\n",
      "Wall time: 2.96 s\n"
     ]
    }
   ],
   "source": [
    "%%time\n",
    "from sklearn.model_selection import train_test_split\n",
    "from sklearn.ensemble import RandomForestClassifier\n",
    "from sklearn.naive_bayes import MultinomialNB\n",
    "from sklearn.linear_model import LogisticRegression\n",
    "from sklearn.neighbors import KNeighborsClassifier\n",
    "from sklearn.tree import DecisionTreeClassifier\n",
    "from sklearn.svm import LinearSVC, SVC\n",
    "from time import perf_counter\n",
    "import warnings\n",
    "warnings.filterwarnings(action='ignore')\n",
    "models = {\n",
    "    \"Random Forest\": {\"model\":RandomForestClassifier(), \"perf\":0},\n",
    "    \"MultinomialNB\": {\"model\":MultinomialNB(), \"perf\":0},\n",
    "    \"Logistic Regr.\": {\"model\":LogisticRegression(solver='liblinear', penalty ='l2' , C = 1.0), \"perf\":0},\n",
    "    \"KNN\": {\"model\":KNeighborsClassifier(), \"perf\":0},\n",
    "    \"Decision Tree\": {\"model\":DecisionTreeClassifier(), \"perf\":0},\n",
    "    \"SVM (Linear)\": {\"model\":LinearSVC(), \"perf\":0},\n",
    "    \"SVM (RBF)\": {\"model\":SVC(), \"perf\":0}\n",
    "}\n",
    "\n",
    "for name, model in models.items():\n",
    "    start = perf_counter()\n",
    "    model['model'].fit(dtv, y_train)\n",
    "    duration = perf_counter() - start\n",
    "    duration = round(duration,2)\n",
    "    model[\"perf\"] = duration\n",
    "    print(f\"{name:20} trained in {duration} sec\")"
   ]
  },
  {
   "cell_type": "code",
   "execution_count": 24,
   "id": "04022bdf",
   "metadata": {},
   "outputs": [
    {
     "name": "stdout",
     "output_type": "stream",
     "text": [
      "Number of Observations: 196\n",
      "Tokens: 9246\n"
     ]
    }
   ],
   "source": [
    "test_dtv = cv.transform(X_test)\n",
    "test_dtv = test_dtv.toarray()\n",
    "print(f\"Number of Observations: {test_dtv.shape[0]}\\nTokens: {test_dtv.shape[1]}\")"
   ]
  },
  {
   "cell_type": "markdown",
   "id": "06bbdf3e",
   "metadata": {},
   "source": [
    "Test Accuracy and Training Time"
   ]
  },
  {
   "cell_type": "code",
   "execution_count": 25,
   "id": "1ba1e61c",
   "metadata": {},
   "outputs": [],
   "source": [
    "models_accuracy = []\n",
    "for name, model in models.items():\n",
    "    models_accuracy.append([name, model[\"model\"].score(test_dtv, y_test),model[\"perf\"]])"
   ]
  },
  {
   "cell_type": "code",
   "execution_count": 26,
   "id": "b1089e05",
   "metadata": {},
   "outputs": [
    {
     "data": {
      "text/html": [
       "<div>\n",
       "<style scoped>\n",
       "    .dataframe tbody tr th:only-of-type {\n",
       "        vertical-align: middle;\n",
       "    }\n",
       "\n",
       "    .dataframe tbody tr th {\n",
       "        vertical-align: top;\n",
       "    }\n",
       "\n",
       "    .dataframe thead th {\n",
       "        text-align: right;\n",
       "    }\n",
       "</style>\n",
       "<table border=\"1\" class=\"dataframe\">\n",
       "  <thead>\n",
       "    <tr style=\"text-align: right;\">\n",
       "      <th></th>\n",
       "      <th>Model</th>\n",
       "      <th>Test Accuracy</th>\n",
       "      <th>Training time (sec)</th>\n",
       "    </tr>\n",
       "  </thead>\n",
       "  <tbody>\n",
       "    <tr>\n",
       "      <th>0</th>\n",
       "      <td>SVM (RBF)</td>\n",
       "      <td>0.974490</td>\n",
       "      <td>0.90</td>\n",
       "    </tr>\n",
       "    <tr>\n",
       "      <th>1</th>\n",
       "      <td>Logistic Regr.</td>\n",
       "      <td>0.969388</td>\n",
       "      <td>0.11</td>\n",
       "    </tr>\n",
       "    <tr>\n",
       "      <th>2</th>\n",
       "      <td>Decision Tree</td>\n",
       "      <td>0.969388</td>\n",
       "      <td>0.83</td>\n",
       "    </tr>\n",
       "    <tr>\n",
       "      <th>3</th>\n",
       "      <td>KNN</td>\n",
       "      <td>0.964286</td>\n",
       "      <td>0.00</td>\n",
       "    </tr>\n",
       "    <tr>\n",
       "      <th>4</th>\n",
       "      <td>SVM (Linear)</td>\n",
       "      <td>0.964286</td>\n",
       "      <td>0.09</td>\n",
       "    </tr>\n",
       "    <tr>\n",
       "      <th>5</th>\n",
       "      <td>Random Forest</td>\n",
       "      <td>0.959184</td>\n",
       "      <td>0.87</td>\n",
       "    </tr>\n",
       "    <tr>\n",
       "      <th>6</th>\n",
       "      <td>MultinomialNB</td>\n",
       "      <td>0.959184</td>\n",
       "      <td>0.07</td>\n",
       "    </tr>\n",
       "  </tbody>\n",
       "</table>\n",
       "</div>"
      ],
      "text/plain": [
       "            Model  Test Accuracy  Training time (sec)\n",
       "0       SVM (RBF)       0.974490                 0.90\n",
       "1  Logistic Regr.       0.969388                 0.11\n",
       "2   Decision Tree       0.969388                 0.83\n",
       "3             KNN       0.964286                 0.00\n",
       "4    SVM (Linear)       0.964286                 0.09\n",
       "5   Random Forest       0.959184                 0.87\n",
       "6   MultinomialNB       0.959184                 0.07"
      ]
     },
     "execution_count": 26,
     "metadata": {},
     "output_type": "execute_result"
    }
   ],
   "source": [
    "df_accuracy = pd.DataFrame(models_accuracy)\n",
    "df_accuracy.columns = ['Model', 'Test Accuracy', 'Training time (sec)']\n",
    "df_accuracy.sort_values(by = 'Test Accuracy', ascending = False, inplace=True)\n",
    "df_accuracy.reset_index(drop = True, inplace=True)\n",
    "df_accuracy"
   ]
  },
  {
   "cell_type": "code",
   "execution_count": 27,
   "id": "1220e7b5",
   "metadata": {},
   "outputs": [
    {
     "data": {
      "image/png": "[encoded data removed]",
      "text/plain": [
       "<Figure size 1500x500 with 1 Axes>"
      ]
     },
     "metadata": {},
     "output_type": "display_data"
    }
   ],
   "source": [
    "plt.figure(figsize = (15,5))\n",
    "sns.barplot(x = 'Model', y ='Test Accuracy', data = df_accuracy)\n",
    "plt.title('Accuracy on the test set\\n', fontsize = 15)\n",
    "plt.ylim(0.825,1)\n",
    "plt.show()"
   ]
  },
  {
   "cell_type": "code",
   "execution_count": 28,
   "id": "0d3ab365",
   "metadata": {},
   "outputs": [
    {
     "data": {
      "image/png": "[encoded data removed]",
      "text/plain": [
       "<Figure size 1500x500 with 1 Axes>"
      ]
     },
     "metadata": {},
     "output_type": "display_data"
    }
   ],
   "source": [
    "plt.figure(figsize = (15,5))\n",
    "sns.barplot(x = 'Model', y = 'Training time (sec)', data = df_accuracy)\n",
    "plt.title('Training time for each model in sec', fontsize = 15)\n",
    "plt.ylim(0,1)\n",
    "plt.show()"
   ]
  },
  {
   "cell_type": "markdown",
   "id": "141ec3da",
   "metadata": {},
   "source": [
    "Logistic Regression"
   ]
  },
  {
   "cell_type": "code",
   "execution_count": 29,
   "id": "0ee8e9df",
   "metadata": {},
   "outputs": [
    {
     "name": "stdout",
     "output_type": "stream",
     "text": [
      "CPU times: total: 78.1 ms\n",
      "Wall time: 84.5 ms\n"
     ]
    }
   ],
   "source": [
    "%%time\n",
    "lr = LogisticRegression(solver='liblinear', penalty ='l2' , C = 1.0)\n",
    "lr.fit(dtv, y_train)\n",
    "pred = lr.predict(test_dtv)"
   ]
  },
  {
   "cell_type": "code",
   "execution_count": 30,
   "id": "999d04ea",
   "metadata": {},
   "outputs": [
    {
     "name": "stdout",
     "output_type": "stream",
     "text": [
      "Accuracy:  96.93877551020408\n"
     ]
    }
   ],
   "source": [
    "print('Accuracy: ', accuracy_score(y_test, pred) * 100)"
   ]
  },
  {
   "cell_type": "markdown",
   "id": "17820ec3",
   "metadata": {},
   "source": [
    "Classification Report"
   ]
  },
  {
   "cell_type": "code",
   "execution_count": 31,
   "id": "e31e83f8",
   "metadata": {},
   "outputs": [
    {
     "name": "stdout",
     "output_type": "stream",
     "text": [
      "              precision    recall  f1-score   support\n",
      "\n",
      "           0       0.98      0.98      0.98       184\n",
      "           1       0.75      0.75      0.75        12\n",
      "\n",
      "    accuracy                           0.97       196\n",
      "   macro avg       0.87      0.87      0.87       196\n",
      "weighted avg       0.97      0.97      0.97       196\n",
      "\n"
     ]
    }
   ],
   "source": [
    "print(classification_report(y_test, pred))"
   ]
  },
  {
   "cell_type": "markdown",
   "id": "9276ddeb",
   "metadata": {},
   "source": [
    "Confusion Matrix"
   ]
  },
  {
   "cell_type": "code",
   "execution_count": 33,
   "id": "aeab4805",
   "metadata": {},
   "outputs": [
    {
     "data": {
      "image/png": "[encoded data removed]",
      "text/plain": [
       "<Figure size 600x600 with 1 Axes>"
      ]
     },
     "metadata": {},
     "output_type": "display_data"
    }
   ],
   "source": [
    "confusion_matrix = pd.crosstab(y_test, pred, rownames=['Actual'], colnames=['Predicted'])\n",
    "plt.figure(figsize = (6, 6))\n",
    "sns.heatmap(confusion_matrix, annot = True, cmap = 'Paired', cbar = False, fmt=\"d\", xticklabels=['Not Spam', 'Spam'], yticklabels=['Not Spam', 'Spam']);"
   ]
  },
  {
   "cell_type": "markdown",
   "id": "3aeff476",
   "metadata": {},
   "source": [
    "Support Vector Machine (RBF)"
   ]
  },
  {
   "cell_type": "code",
   "execution_count": 34,
   "id": "d0062637",
   "metadata": {},
   "outputs": [
    {
     "name": "stdout",
     "output_type": "stream",
     "text": [
      "CPU times: total: 906 ms\n",
      "Wall time: 1.18 s\n"
     ]
    }
   ],
   "source": [
    "%%time\n",
    "svc = SVC()\n",
    "svc.fit(dtv, y_train)\n",
    "pred = svc.predict(test_dtv)"
   ]
  },
  {
   "cell_type": "code",
   "execution_count": 35,
   "id": "fb933a33",
   "metadata": {},
   "outputs": [
    {
     "name": "stdout",
     "output_type": "stream",
     "text": [
      "Accuracy:  97.44897959183673\n"
     ]
    }
   ],
   "source": [
    "print('Accuracy: ', accuracy_score(y_test, pred) * 100)"
   ]
  },
  {
   "cell_type": "markdown",
   "id": "4b14af1c",
   "metadata": {},
   "source": [
    "Classification Report"
   ]
  },
  {
   "cell_type": "code",
   "execution_count": 36,
   "id": "4ba5802f",
   "metadata": {},
   "outputs": [
    {
     "name": "stdout",
     "output_type": "stream",
     "text": [
      "              precision    recall  f1-score   support\n",
      "\n",
      "           0       0.97      1.00      0.99       184\n",
      "           1       1.00      0.58      0.74        12\n",
      "\n",
      "    accuracy                           0.97       196\n",
      "   macro avg       0.99      0.79      0.86       196\n",
      "weighted avg       0.98      0.97      0.97       196\n",
      "\n"
     ]
    }
   ],
   "source": [
    "print(classification_report(y_test, pred))"
   ]
  },
  {
   "cell_type": "code",
   "execution_count": 37,
   "id": "cad1ad4b",
   "metadata": {},
   "outputs": [
    {
     "data": {
      "image/png": "[encoded data removed]",
      "text/plain": [
       "<Figure size 600x600 with 1 Axes>"
      ]
     },
     "metadata": {},
     "output_type": "display_data"
    }
   ],
   "source": [
    "confusion_matrix = pd.crosstab(y_test, pred, rownames=['Actual'], colnames=['Predicted'])\n",
    "plt.figure(figsize = (6, 6))\n",
    "sns.heatmap(confusion_matrix, annot = True, cmap = 'Paired', cbar = False, fmt=\"d\", xticklabels=['Not Spam', 'Spam'], yticklabels=['Not Spam', 'Spam']);\n"
   ]
  },
  {
   "cell_type": "markdown",
   "id": "0d221e87",
   "metadata": {},
   "source": [
    "Random Forest Classifier"
   ]
  },
  {
   "cell_type": "code",
   "execution_count": 38,
   "id": "16357649",
   "metadata": {},
   "outputs": [
    {
     "name": "stdout",
     "output_type": "stream",
     "text": [
      "CPU times: total: 641 ms\n",
      "Wall time: 865 ms\n"
     ]
    }
   ],
   "source": [
    "%%time\n",
    "rfc = RandomForestClassifier()\n",
    "rfc.fit(dtv, y_train)\n",
    "pred = rfc.predict(test_dtv)"
   ]
  },
  {
   "cell_type": "code",
   "execution_count": 39,
   "id": "376534dc",
   "metadata": {},
   "outputs": [
    {
     "name": "stdout",
     "output_type": "stream",
     "text": [
      "Accuracy:  96.42857142857143\n"
     ]
    }
   ],
   "source": [
    "print('Accuracy: ', accuracy_score(y_test, pred) * 100)"
   ]
  },
  {
   "cell_type": "markdown",
   "id": "f94ed6f3",
   "metadata": {},
   "source": [
    "Classification Report"
   ]
  },
  {
   "cell_type": "code",
   "execution_count": 40,
   "id": "3404b86d",
   "metadata": {},
   "outputs": [
    {
     "name": "stdout",
     "output_type": "stream",
     "text": [
      "              precision    recall  f1-score   support\n",
      "\n",
      "           0       0.98      0.98      0.98       184\n",
      "           1       0.69      0.75      0.72        12\n",
      "\n",
      "    accuracy                           0.96       196\n",
      "   macro avg       0.84      0.86      0.85       196\n",
      "weighted avg       0.97      0.96      0.96       196\n",
      "\n"
     ]
    }
   ],
   "source": [
    "print(classification_report(y_test, pred))"
   ]
  },
  {
   "cell_type": "markdown",
   "id": "329684c1",
   "metadata": {},
   "source": [
    "Confusion Matrix"
   ]
  },
  {
   "cell_type": "code",
   "execution_count": 41,
   "id": "5c5c0271",
   "metadata": {},
   "outputs": [
    {
     "data": {
      "image/png": "[encoded data removed]",
      "text/plain": [
       "<Figure size 600x600 with 1 Axes>"
      ]
     },
     "metadata": {},
     "output_type": "display_data"
    }
   ],
   "source": [
    "confusion_matrix = pd.crosstab(y_test, pred, rownames=['Actual'], colnames=['Predicted'])\n",
    "plt.figure(figsize = (6, 6))\n",
    "sns.heatmap(confusion_matrix, annot = True, cmap = 'Paired', cbar = False, fmt=\"d\", xticklabels=['Not Spam', 'Spam'], yticklabels=['Not Spam', 'Spam']);"
   ]
  },
  {
   "cell_type": "raw",
   "id": "d9677f54",
   "metadata": {},
   "source": [
    "Multinomial Naive Bayes"
   ]
  },
  {
   "cell_type": "code",
   "execution_count": 42,
   "id": "05ea358f",
   "metadata": {},
   "outputs": [
    {
     "name": "stdout",
     "output_type": "stream",
     "text": [
      "CPU times: total: 46.9 ms\n",
      "Wall time: 59.6 ms\n"
     ]
    }
   ],
   "source": [
    "%%time\n",
    "mnb = MultinomialNB()\n",
    "mnb.fit(dtv, y_train)\n",
    "pred = mnb.predict(test_dtv)"
   ]
  },
  {
   "cell_type": "code",
   "execution_count": 43,
   "id": "a0683e5e",
   "metadata": {},
   "outputs": [
    {
     "name": "stdout",
     "output_type": "stream",
     "text": [
      "Accuracy:  95.91836734693877\n"
     ]
    }
   ],
   "source": [
    "print('Accuracy: ', accuracy_score(y_test, pred) * 100)"
   ]
  },
  {
   "cell_type": "code",
   "execution_count": 44,
   "id": "a13e2616",
   "metadata": {},
   "outputs": [
    {
     "name": "stdout",
     "output_type": "stream",
     "text": [
      "              precision    recall  f1-score   support\n",
      "\n",
      "           0       0.98      0.98      0.98       184\n",
      "           1       0.67      0.67      0.67        12\n",
      "\n",
      "    accuracy                           0.96       196\n",
      "   macro avg       0.82      0.82      0.82       196\n",
      "weighted avg       0.96      0.96      0.96       196\n",
      "\n"
     ]
    }
   ],
   "source": [
    "\n",
    "print(classification_report(y_test, pred))"
   ]
  },
  {
   "cell_type": "markdown",
   "id": "8e4e2eab",
   "metadata": {},
   "source": [
    "Confusion Matrix\n"
   ]
  },
  {
   "cell_type": "code",
   "execution_count": 45,
   "id": "3cdf7763",
   "metadata": {},
   "outputs": [
    {
     "data": {
      "image/png": "[encoded data removed]",
      "text/plain": [
       "<Figure size 600x600 with 1 Axes>"
      ]
     },
     "metadata": {},
     "output_type": "display_data"
    }
   ],
   "source": [
    "confusion_matrix = pd.crosstab(y_test, pred, rownames=['Actual'], colnames=['Predicted'])\n",
    "plt.figure(figsize = (6, 6))\n",
    "sns.heatmap(confusion_matrix, annot = True, cmap = 'Paired', cbar = False, fmt=\"d\", xticklabels=['Not Spam', 'Spam'], yticklabels=['Not Spam', 'Spam']);\n"
   ]
  },
  {
   "cell_type": "markdown",
   "id": "4c383c99",
   "metadata": {},
   "source": [
    "Support Vector Machine (Linear)"
   ]
  },
  {
   "cell_type": "code",
   "execution_count": 46,
   "id": "f351dd80",
   "metadata": {},
   "outputs": [
    {
     "name": "stdout",
     "output_type": "stream",
     "text": [
      "CPU times: total: 93.8 ms\n",
      "Wall time: 93.6 ms\n"
     ]
    }
   ],
   "source": [
    "%%time\n",
    "lsvc = LinearSVC()\n",
    "lsvc.fit(dtv, y_train)\n",
    "pred = lsvc.predict(test_dtv)"
   ]
  },
  {
   "cell_type": "code",
   "execution_count": 47,
   "id": "28682c44",
   "metadata": {},
   "outputs": [
    {
     "name": "stdout",
     "output_type": "stream",
     "text": [
      "Accuracy:  96.42857142857143\n"
     ]
    }
   ],
   "source": [
    "print('Accuracy: ', accuracy_score(y_test, pred) * 100)"
   ]
  },
  {
   "cell_type": "code",
   "execution_count": 48,
   "id": "39806149",
   "metadata": {},
   "outputs": [
    {
     "name": "stdout",
     "output_type": "stream",
     "text": [
      "              precision    recall  f1-score   support\n",
      "\n",
      "           0       0.98      0.98      0.98       184\n",
      "           1       0.69      0.75      0.72        12\n",
      "\n",
      "    accuracy                           0.96       196\n",
      "   macro avg       0.84      0.86      0.85       196\n",
      "weighted avg       0.97      0.96      0.96       196\n",
      "\n"
     ]
    }
   ],
   "source": [
    "print(classification_report(y_test, pred))"
   ]
  },
  {
   "cell_type": "code",
   "execution_count": 49,
   "id": "4c70431d",
   "metadata": {},
   "outputs": [
    {
     "data": {
      "image/png": "[encoded data removed]",
      "text/plain": [
       "<Figure size 600x600 with 1 Axes>"
      ]
     },
     "metadata": {},
     "output_type": "display_data"
    }
   ],
   "source": [
    "confusion_matrix = pd.crosstab(y_test, pred, rownames=['Actual'], colnames=['Predicted'])\n",
    "plt.figure(figsize = (6, 6))\n",
    "sns.heatmap(confusion_matrix, annot = True, cmap = 'Paired', cbar = False, fmt=\"d\", xticklabels=['Not Spam', 'Spam'], yticklabels=['Not Spam', 'Spam']);\n"
   ]
  },
  {
   "cell_type": "markdown",
   "id": "ecd54fe8",
   "metadata": {},
   "source": [
    "Decision Tree Classifier"
   ]
  },
  {
   "cell_type": "code",
   "execution_count": 50,
   "id": "ea210ee2",
   "metadata": {},
   "outputs": [
    {
     "name": "stdout",
     "output_type": "stream",
     "text": [
      "CPU times: total: 500 ms\n",
      "Wall time: 970 ms\n"
     ]
    }
   ],
   "source": [
    "%%time\n",
    "dtc = DecisionTreeClassifier()\n",
    "dtc.fit(dtv, y_train)\n",
    "pred = dtc.predict(test_dtv)"
   ]
  },
  {
   "cell_type": "code",
   "execution_count": 51,
   "id": "e8ea2a87",
   "metadata": {},
   "outputs": [
    {
     "name": "stdout",
     "output_type": "stream",
     "text": [
      "Accuracy:  96.93877551020408\n"
     ]
    }
   ],
   "source": [
    "print('Accuracy: ', accuracy_score(y_test, pred) * 100)"
   ]
  },
  {
   "cell_type": "code",
   "execution_count": 52,
   "id": "30b94b55",
   "metadata": {},
   "outputs": [
    {
     "name": "stdout",
     "output_type": "stream",
     "text": [
      "              precision    recall  f1-score   support\n",
      "\n",
      "           0       0.98      0.98      0.98       184\n",
      "           1       0.75      0.75      0.75        12\n",
      "\n",
      "    accuracy                           0.97       196\n",
      "   macro avg       0.87      0.87      0.87       196\n",
      "weighted avg       0.97      0.97      0.97       196\n",
      "\n"
     ]
    }
   ],
   "source": [
    "print(classification_report(y_test, pred))"
   ]
  },
  {
   "cell_type": "code",
   "execution_count": 53,
   "id": "2e8719d0",
   "metadata": {},
   "outputs": [
    {
     "data": {
      "image/png": "[encoded data removed]",
      "text/plain": [
       "<Figure size 600x600 with 1 Axes>"
      ]
     },
     "metadata": {},
     "output_type": "display_data"
    }
   ],
   "source": [
    "confusion_matrix = pd.crosstab(y_test, pred, rownames=['Actual'], colnames=['Predicted'])\n",
    "plt.figure(figsize = (6, 6))\n",
    "sns.heatmap(confusion_matrix, annot = True, cmap = 'Paired', cbar = False, fmt=\"d\", xticklabels=['Not Spam', 'Spam'], yticklabels=['Not Spam', 'Spam']);\n"
   ]
  },
  {
   "cell_type": "markdown",
   "id": "8e1f1c9a",
   "metadata": {},
   "source": [
    "K Nearest Neighbours"
   ]
  },
  {
   "cell_type": "code",
   "execution_count": 54,
   "id": "fadf9b61",
   "metadata": {},
   "outputs": [
    {
     "name": "stdout",
     "output_type": "stream",
     "text": [
      "CPU times: total: 156 ms\n",
      "Wall time: 77.9 ms\n"
     ]
    }
   ],
   "source": [
    "%%time\n",
    "knn = KNeighborsClassifier()\n",
    "knn.fit(dtv, y_train)\n",
    "pred = knn.predict(test_dtv)"
   ]
  },
  {
   "cell_type": "code",
   "execution_count": 55,
   "id": "6e8367f7",
   "metadata": {},
   "outputs": [
    {
     "name": "stdout",
     "output_type": "stream",
     "text": [
      "Accuracy:  96.42857142857143\n"
     ]
    }
   ],
   "source": [
    "print('Accuracy: ', accuracy_score(y_test, pred) * 100)"
   ]
  },
  {
   "cell_type": "code",
   "execution_count": 56,
   "id": "877f5683",
   "metadata": {},
   "outputs": [
    {
     "name": "stdout",
     "output_type": "stream",
     "text": [
      "              precision    recall  f1-score   support\n",
      "\n",
      "           0       0.98      0.98      0.98       184\n",
      "           1       0.73      0.67      0.70        12\n",
      "\n",
      "    accuracy                           0.96       196\n",
      "   macro avg       0.85      0.83      0.84       196\n",
      "weighted avg       0.96      0.96      0.96       196\n",
      "\n"
     ]
    }
   ],
   "source": [
    "print(classification_report(y_test, pred))"
   ]
  },
  {
   "cell_type": "code",
   "execution_count": 57,
   "id": "eaa58995",
   "metadata": {},
   "outputs": [
    {
     "data": {
      "image/png": "[encoded data removed]",
      "text/plain": [
       "<Figure size 600x600 with 1 Axes>"
      ]
     },
     "metadata": {},
     "output_type": "display_data"
    }
   ],
   "source": [
    "confusion_matrix = pd.crosstab(y_test, pred, rownames=['Actual'], colnames=['Predicted'])\n",
    "plt.figure(figsize = (6, 6))\n",
    "sns.heatmap(confusion_matrix, annot = True, cmap = 'Paired', cbar = False, fmt=\"d\", xticklabels=['Not Spam', 'Spam'], yticklabels=['Not Spam', 'Spam']);\n"
   ]
  },
  {
   "cell_type": "code",
   "execution_count": null,
   "id": "4d008393",
   "metadata": {},
   "outputs": [],
   "source": []
  }
 ],
 "metadata": {
  "kernelspec": {
   "display_name": "Python 3 (ipykernel)",
   "language": "python",
   "name": "python3"
  },
  "language_info": {
   "codemirror_mode": {
    "name": "ipython",
    "version": 3
   },
   "file_extension": ".py",
   "mimetype": "text/x-python",
   "name": "python",
   "nbconvert_exporter": "python",
   "pygments_lexer": "ipython3",
   "version": "3.10.6"
  }
 },
 "nbformat": 4,
 "nbformat_minor": 5
}

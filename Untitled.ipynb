{
 "cells": [
  {
   "cell_type": "raw",
   "id": "75a36e10",
   "metadata": {},
   "source": [
    "Extract Emails from Gmail and convert to Excel\n",
    "\n",
    "\n",
    "Extracts emails from Gmail from 'Inbox' and 'Spam' folders in .txt format.\n",
    "Then converts each folder to Excel files.\n",
    "Adds 'spam' and 'non-spam' Labels and 1/0 Label_Numbers.\n",
    "Merges both Excel files into one and shuffles them"
   ]
  },
  {
   "cell_type": "code",
   "execution_count": 1,
   "id": "74257ff4",
   "metadata": {},
   "outputs": [],
   "source": [
    "import os, re\n",
    "import pandas as pd\n",
    "import codecs\n",
    "from getpass import getpass\n",
    "import imaplib, email\n",
    "from bs4 import BeautifulSoup\n",
    "from nltk import word_tokenize"
   ]
  },
  {
   "cell_type": "markdown",
   "id": "77d403d5",
   "metadata": {},
   "source": [
    "Class emails to download emails"
   ]
  },
  {
   "cell_type": "code",
   "execution_count": 2,
   "id": "811887ac",
   "metadata": {},
   "outputs": [],
   "source": [
    "class emails:\n",
    "   \n",
    "\n",
    "    def __init__(self,username,password):\n",
    "    \n",
    "        self.mail = imaplib.IMAP4_SSL('imap.gmail.com')\n",
    "        self.mail.login(username, password)\n",
    "        self.select_folder('Inbox',True)\n",
    "\n",
    "    def select_folder(self,folder, read_only):\n",
    "        self.mail.select(folder,readonly=read_only)\n",
    "\n",
    "    def get_all_emails(self):\n",
    "        result,data=self.mail.uid('search',None,'All')\n",
    "        return result,data[0].decode('utf-8').split()\n",
    "\n",
    "    def raw_email(self,uid):\n",
    "        result, data = self.mail.uid('fetch', uid, '(RFC822)')\n",
    "        return result,data[0][1]\n",
    "\n",
    "\n",
    "    def __clean__(self,text):\n",
    "        text = text.replace('  ', ' ')\n",
    "        text = text.replace('</n', '<')\n",
    "        text = text.replace('{*}', '')\n",
    "        #replacing patterns\n",
    "        text = re.sub(r'<[^>]+>', '', text)\n",
    "        text = re.sub(r'\\n+', '\\n', text)\n",
    "        output=''\n",
    "        words=[word for word in word_tokenize(text) if len(word)<=15 and re.match('[A-Za-z0-9,._]+',word)]\n",
    "        for word in words:\n",
    "            if output=='':\n",
    "                output=word\n",
    "            else:\n",
    "                output = output + ' ' + word\n",
    "        return output\n",
    "\n",
    "    def parse_email(self,uid):\n",
    "        dict={}\n",
    "        result, raw_email = self.raw_email(uid)\n",
    "        raw_email = raw_email.decode('utf-8','ignore')\n",
    "        parsed = email.message_from_string(raw_email)\n",
    "        dict['To']=email.utils.parseaddr(parsed['To'])[-1]\n",
    "        dict['From']=email.utils.parseaddr(parsed['From'])[-1]\n",
    "        dict['Subject']=parsed['Subject']\n",
    "\n",
    "        body=''\n",
    "        for part in parsed.walk():\n",
    "            if part.get_content_type()=='text/html':\n",
    "                html=str(part.get_payload())\n",
    "                soup = BeautifulSoup(html,'html5lib')\n",
    "                try:\n",
    "                    text=soup.find('body').text.strip()\n",
    "                except Exception:\n",
    "                    continue\n",
    "\n",
    "                text=self.__clean__(text)\n",
    "                body=body + text\n",
    "\n",
    "        body=self.__clean__(body)\n",
    "        dict['Body']=body\n",
    "        return dict\n",
    "    \n",
    "    #Directory\n",
    "    def directory(label):\n",
    "        cdir =os.getcwd()\n",
    "        #Setting target folder\n",
    "        if label.find('/')>0:\n",
    "            folder=label[label.find('/')+1:].lower()\n",
    "        else:\n",
    "            folder=label.lower()\n",
    "        \n",
    "        #Create folder, if it does not exist\n",
    "        if not os.path.exists(cdir + '\\Downloads\\\\' + folder):\n",
    "            os.mkdir(cdir + '\\Downloads\\\\' + folder)\n",
    "        return folder\n",
    "    \n",
    "    def download_emails(label):\n",
    "        #Getting all the emails\n",
    "        mail.select_folder(label,True)\n",
    "        result, data = mail.get_all_emails()\n",
    "    \n",
    "        #Exit, if no emails returned\n",
    "        if not result=='OK':\n",
    "            exit(1)\n",
    "\n",
    "        #Saving the Data\n",
    "        cdir =os.getcwd()\n",
    "        print('Downloading ' + emails.directory(label) + ' emails...')\n",
    "        for uid in data:\n",
    "            dict = mail.parse_email(uid)\n",
    "            subject = dict['Subject']\n",
    "            subject=re.sub('[^a-zA-Z ]','',subject)\n",
    "            if len(subject) > 50:\n",
    "                subject = subject[:50]\n",
    "            file = cdir + '\\Downloads\\\\' + emails.directory(label) + '\\\\' + subject + '.txt'\n",
    "            with open(file, 'w', encoding='utf-8') as f:\n",
    "                body = subject + '\\n' + str(dict['Body'])\n",
    "                f.write(body)\n",
    "    \n",
    "        #Status Display\n",
    "        print('Downloaded ' + emails.directory(label) + ' emails at '+ cdir + '\\Downloads\\\\' + emails.directory(label) + '.')\n",
    "        print('------------------------------')\n",
    "\n",
    "        \n",
    "    #Creates List of Emails\n",
    "    def create_email_list(folder_path):\n",
    "        email_list = []\n",
    "        folder = os.listdir(folder_path)\n",
    "        for txt in folder:\n",
    "            file_name = fr'{folder_path}/{txt}'\n",
    "        \n",
    "            with codecs.open(file_name, 'r', encoding='utf-8',errors='ignore') as f:\n",
    "                email = f.read()\n",
    "                email_list.append(email)\n",
    "        return email_list\n"
   ]
  },
  {
   "cell_type": "markdown",
   "id": "5de813a4",
   "metadata": {},
   "source": [
    "Input Email ID and Password"
   ]
  },
  {
   "cell_type": "code",
   "execution_count": null,
   "id": "09ce0623",
   "metadata": {},
   "outputs": [],
   "source": [
    "#main\n",
    "if __name__=='__main__':\n",
    "    email_id = getpass('Enter Gmail ID :')\n",
    "    email_password = getpass('Enter Password :')\n",
    "    mail=emails(email_id,email_password)"
   ]
  },
  {
   "cell_type": "markdown",
   "id": "5ee33672",
   "metadata": {},
   "source": [
    "Download Spam and Inbox mails from Gmail"
   ]
  },
  {
   "cell_type": "code",
   "execution_count": null,
   "id": "b95e42cb",
   "metadata": {},
   "outputs": [],
   "source": [
    "#This might take a while\n",
    "emails.download_emails('[Gmail]/Spam')\n",
    "emails.download_emails('INBOX')"
   ]
  },
  {
   "cell_type": "markdown",
   "id": "13bf550a",
   "metadata": {},
   "source": [
    "Convert spam emails folder to Excel file"
   ]
  },
  {
   "cell_type": "code",
   "execution_count": null,
   "id": "bc11862e",
   "metadata": {},
   "outputs": [],
   "source": [
    "cdir = os.getcwd()\n",
    "spam_list = emails.create_email_list(cdir + '\\Downloads\\\\' + emails.directory('[Gmail]/Spam'))\n",
    "spam_df = pd.DataFrame(spam_list)\n",
    "spam_df.to_excel(cdir + 'C:\\Users\\Anisha\\Desktop\\ML projects\\Email Spam Classifier.xlsx')\n",
    "\n",
    "print('Converted spam emails to Excel file.')\n",
    "print('------------------------------')"
   ]
  },
  {
   "cell_type": "markdown",
   "id": "d46be6a3",
   "metadata": {},
   "source": [
    "Convert non spam emails folder to Excel file"
   ]
  },
  {
   "cell_type": "code",
   "execution_count": null,
   "id": "5e594327",
   "metadata": {},
   "outputs": [],
   "source": [
    "non_spam_list = emails.create_email_list(cdir + '\\Downloads\\\\' + emails.directory('INBOX'))\n",
    "non_spam_df = pd.DataFrame(non_spam_list)\n",
    "non_spam_df.to_excel(cdir + '\\Downloads\\inbox.xlsx')\n",
    "    \n",
    "print('Converted inbox emails to Excel file.')\n",
    "print('------------------------------')"
   ]
  },
  {
   "cell_type": "code",
   "execution_count": null,
   "id": "c887b1ca",
   "metadata": {},
   "outputs": [],
   "source": [
    "#read both files\n",
    "df1 = pd.read_excel(cdir + '\\Downloads\\inbox.xlsx')\n",
    "df2 = pd.read_excel(cdir + '\\Downloads\\spam.xlsx')"
   ]
  },
  {
   "cell_type": "code",
   "execution_count": null,
   "id": "e5930812",
   "metadata": {},
   "outputs": [],
   "source": []
  }
 ],
 "metadata": {
  "kernelspec": {
   "display_name": "Python 3 (ipykernel)",
   "language": "python",
   "name": "python3"
  },
  "language_info": {
   "codemirror_mode": {
    "name": "ipython",
    "version": 3
   },
   "file_extension": ".py",
   "mimetype": "text/x-python",
   "name": "python",
   "nbconvert_exporter": "python",
   "pygments_lexer": "ipython3",
   "version": "3.10.6"
  }
 },
 "nbformat": 4,
 "nbformat_minor": 5
}
